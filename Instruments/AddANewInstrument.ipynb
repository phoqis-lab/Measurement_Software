{
 "cells": [
  {
   "cell_type": "markdown",
   "id": "457dfa08",
   "metadata": {},
   "source": []
  },
  {
   "cell_type": "markdown",
   "id": "243ef7ed",
   "metadata": {},
   "source": [
    "How to make Unit Tests"
   ]
  },
  {
   "cell_type": "markdown",
   "id": "a3c17cbc",
   "metadata": {},
   "source": [
    "Introduction"
   ]
  },
  {
   "cell_type": "markdown",
   "id": "39b9156b",
   "metadata": {},
   "source": [
    "How to Make Instrument Class"
   ]
  },
  {
   "cell_type": "markdown",
   "id": "e6269657",
   "metadata": {},
   "source": [
    "First connect to VISA API. This will"
   ]
  },
  {
   "cell_type": "code",
   "execution_count": null,
   "id": "7145e6bf",
   "metadata": {
    "vscode": {
     "languageId": "plaintext"
    }
   },
   "outputs": [],
   "source": []
  },
  {
   "cell_type": "code",
   "execution_count": null,
   "id": "5f31facf",
   "metadata": {},
   "outputs": [],
   "source": [
    "import pyvisa\n",
    "rm = pyvisa.ResourceManager()"
   ]
  },
  {
   "cell_type": "markdown",
   "id": "efc5b360",
   "metadata": {},
   "source": [
    "Then add the path to your new instrument into the following dictionary. \n",
    "You will need to set a static IP address for your machine. TODO fact check this in testing."
   ]
  },
  {
   "cell_type": "code",
   "execution_count": null,
   "id": "283df00a",
   "metadata": {},
   "outputs": [],
   "source": [
    "# Print all connected instruments\n",
    "# dictionary of connected instruments\n",
    "#find exclusion"
   ]
  }
 ],
 "metadata": {
  "language_info": {
   "name": "python"
  }
 },
 "nbformat": 4,
 "nbformat_minor": 5
}

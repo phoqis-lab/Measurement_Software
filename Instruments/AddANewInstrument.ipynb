{
 "cells": [
  {
   "cell_type": "markdown",
   "id": "457dfa08",
   "metadata": {},
   "source": []
  },
  {
   "cell_type": "markdown",
   "id": "a3c17cbc",
   "metadata": {},
   "source": [
    "### Introduction\n",
    "A new insturment has arrived at the lab and you want to add it as an option to the measurement software. The aim of this guide is to make adding a new insturment a painless process and requires minimal to no knowledge of the SCPI protocol when doing so.\n",
    "\n",
    "This tutorial makes the assumption you are doing this in VS Code of VS Studio. If you are coding in a different IDE the instructions should still work, you just may find objects are in different places or with slightly different name"
   ]
  },
  {
   "cell_type": "markdown",
   "id": "39b9156b",
   "metadata": {},
   "source": [
    "How to Make Instrument Class"
   ]
  },
  {
   "cell_type": "markdown",
   "id": "973199ae",
   "metadata": {},
   "source": [
    "## LLM\n",
    "Back in prehistoric times (pre-2022) to automate transforming documentation into code we'd have to write a custom parser to break down the document to write the code. However, unlike the scpi protocol, there is no requirements for how a company writes their documentation. Therefore consturcting a parser to be universal would take a long time and require a rigourous design. So instead we will use an LLM. As we do not want to pay for api access, sadly I could not seemlessly integrate it into this notebook so you, dear user, will have to use your own chat window. Assuming you are in VS Code, I would recommend using the built in Github Copilot feature and you will not have to leave the ide and can easily switch between which LLm you are querying. It is a bit slower than using a web browser, but automatically has the context of the already written code.\n",
    "\n",
    "For which one to use, I found Claude to be the least error prone when writing code, followed by GPT4 and Gemini 2.5."
   ]
  },
  {
   "cell_type": "markdown",
   "id": "a13f1cee",
   "metadata": {},
   "source": [
    "# How to Install and access Github Copilot"
   ]
  },
  {
   "cell_type": "markdown",
   "id": "0242f197",
   "metadata": {},
   "source": [
    "Go to the extensions tab on the left sidebar and search copilot and install."
   ]
  },
  {
   "cell_type": "markdown",
   "id": "6f1b2a2b",
   "metadata": {},
   "source": [
    "Once installed you will see action by your search bar. You can set the copilot to auto complete in line code to your preferences, but we will be using the chat feature. Open it with the drop down menu."
   ]
  },
  {
   "cell_type": "markdown",
   "id": "e6269657",
   "metadata": {},
   "source": [
    "First connect to VISA API. This will"
   ]
  },
  {
   "cell_type": "code",
   "execution_count": null,
   "id": "5f31facf",
   "metadata": {},
   "outputs": [],
   "source": [
    "import pyvisa\n",
    "rm = pyvisa.ResourceManager()"
   ]
  },
  {
   "cell_type": "markdown",
   "id": "1b01f851",
   "metadata": {},
   "source": [
    "- Include SCPI"
   ]
  },
  {
   "cell_type": "markdown",
   "id": "243ef7ed",
   "metadata": {},
   "source": [
    "How to make Unit Tests"
   ]
  },
  {
   "cell_type": "markdown",
   "id": "efc5b360",
   "metadata": {},
   "source": [
    "Then add the path to your new instrument into the following dictionary. \n",
    "You will need to set a static IP address for your machine. TODO fact check this in testing."
   ]
  },
  {
   "cell_type": "code",
   "execution_count": null,
   "id": "283df00a",
   "metadata": {},
   "outputs": [],
   "source": [
    "# Print all connected instruments\n",
    "# dictionary of connected instruments\n",
    "#find exclusion"
   ]
  },
  {
   "cell_type": "markdown",
   "id": "0503547e",
   "metadata": {},
   "source": [
    "I decided to use generative AI to assist with code creation. I am making the assumption"
   ]
  }
 ],
 "metadata": {
  "language_info": {
   "name": "python"
  }
 },
 "nbformat": 4,
 "nbformat_minor": 5
}

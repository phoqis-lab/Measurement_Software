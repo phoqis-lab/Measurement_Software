{
 "cells": [
  {
   "cell_type": "markdown",
   "metadata": {},
   "source": [
    "# QubiC DAC to Oscilloscope Test"
   ]
  },
  {
   "cell_type": "code",
   "execution_count": 1,
   "metadata": {},
   "outputs": [
    {
     "ename": "ModuleNotFoundError",
     "evalue": "No module named 'qubic'",
     "output_type": "error",
     "traceback": [
      "\u001b[0;31m---------------------------------------------------------------------------\u001b[0m",
      "\u001b[0;31mModuleNotFoundError\u001b[0m                       Traceback (most recent call last)",
      "Cell \u001b[0;32mIn[1], line 1\u001b[0m\n\u001b[0;32m----> 1\u001b[0m \u001b[38;5;28;01mimport\u001b[39;00m\u001b[38;5;250m \u001b[39m\u001b[38;5;21;01mqubic\u001b[39;00m\u001b[38;5;21;01m.\u001b[39;00m\u001b[38;5;21;01mtoolchain\u001b[39;00m\u001b[38;5;250m \u001b[39m\u001b[38;5;28;01mas\u001b[39;00m\u001b[38;5;250m \u001b[39m\u001b[38;5;21;01mtc\u001b[39;00m\n\u001b[1;32m      2\u001b[0m \u001b[38;5;28;01mimport\u001b[39;00m\u001b[38;5;250m \u001b[39m\u001b[38;5;21;01mqubic\u001b[39;00m\u001b[38;5;21;01m.\u001b[39;00m\u001b[38;5;21;01mrpc_client\u001b[39;00m\u001b[38;5;250m \u001b[39m\u001b[38;5;28;01mas\u001b[39;00m\u001b[38;5;250m \u001b[39m\u001b[38;5;21;01mrc\u001b[39;00m\n\u001b[1;32m      3\u001b[0m \u001b[38;5;28;01mimport\u001b[39;00m\u001b[38;5;250m \u001b[39m\u001b[38;5;21;01mqubitconfig\u001b[39;00m\u001b[38;5;21;01m.\u001b[39;00m\u001b[38;5;21;01mqchip\u001b[39;00m\u001b[38;5;250m \u001b[39m\u001b[38;5;28;01mas\u001b[39;00m\u001b[38;5;250m \u001b[39m\u001b[38;5;21;01mqc\u001b[39;00m\n",
      "\u001b[0;31mModuleNotFoundError\u001b[0m: No module named 'qubic'"
     ]
    }
   ],
   "source": [
    "import qubic.toolchain as tc\n",
    "import qubic.rpc_client as rc\n",
    "import qubitconfig.qchip as qc\n",
    "from distproc.hwconfig import FPGAConfig, load_channel_configs\n",
    "import numpy as np\n",
    "import matplotlib.pyplot as plt "
   ]
  },
  {
   "cell_type": "code",
   "execution_count": 4,
   "metadata": {},
   "outputs": [],
   "source": [
    "fpga_config = FPGAConfig() \n",
    "# fpga_config = FPGAConfig(**{\n",
    "#     'fpga_clk_period': 2e-9,  # 500 MHz = 2ns clock\n",
    "#     'alu_instr_clks': 5,\n",
    "#     'jump_cond_clks': 5,\n",
    "#     'jump_fproc_clks': 5,\n",
    "#     'pulse_regwrite_clks': 3\n",
    "# })"
   ]
  },
  {
   "cell_type": "code",
   "execution_count": 5,
   "metadata": {},
   "outputs": [],
   "source": [
    "channel_configs = load_channel_configs('channel_config.json') "
   ]
  },
  {
   "cell_type": "code",
   "execution_count": 6,
   "metadata": {},
   "outputs": [],
   "source": [
    "runner = rc.CircuitRunnerClient(ip='127.0.0.1', port=9095) "
   ]
  },
  {
   "cell_type": "code",
   "execution_count": 13,
   "metadata": {},
   "outputs": [],
   "source": [
    "circuit = []\n",
    "\n",
    "for q in range(8):\n",
    "    for drv in ['qdrv']:\n",
    "        circuit.append({\n",
    "            'name': 'pulse',\n",
    "            'phase': 0,\n",
    "            'freq': 150000000,\n",
    "            'amp': 1,\n",
    "            'twidth': 0.5e-6,\n",
    "            'env': {\n",
    "                'env_func': 'cos_edge_square',\n",
    "                'paradict': {\n",
    "                    'ramp_fraction': 0.5\n",
    "                }\n",
    "            },\n",
    "            'dest': f'Q{q}.{drv}'\n",
    "        })\n"
   ]
  },
  {
   "cell_type": "code",
   "execution_count": 14,
   "metadata": {},
   "outputs": [
    {
     "data": {
      "text/plain": [
       "CompiledProgram(program={('Q3.qdrv', 'Q3.rdrv', 'Q3.rdlo'): [{'op': 'phase_reset'}, {'op': 'pulse', 'freq': 150000000, 'phase': 0, 'amp': 1, 'env': {'env_func': 'cos_edge_square', 'paradict': {'ramp_fraction': 0.5, 'twidth': 5e-07}}, 'start_time': 5, 'dest': 'Q3.qdrv'}, {'op': 'done_stb'}], ('Q7.qdrv', 'Q7.rdrv', 'Q7.rdlo'): [{'op': 'phase_reset'}, {'op': 'pulse', 'freq': 150000000, 'phase': 0, 'amp': 1, 'env': {'env_func': 'cos_edge_square', 'paradict': {'ramp_fraction': 0.5, 'twidth': 5e-07}}, 'start_time': 5, 'dest': 'Q7.qdrv'}, {'op': 'done_stb'}], ('Q5.qdrv', 'Q5.rdrv', 'Q5.rdlo'): [{'op': 'phase_reset'}, {'op': 'pulse', 'freq': 150000000, 'phase': 0, 'amp': 1, 'env': {'env_func': 'cos_edge_square', 'paradict': {'ramp_fraction': 0.5, 'twidth': 5e-07}}, 'start_time': 5, 'dest': 'Q5.qdrv'}, {'op': 'done_stb'}], ('Q6.qdrv', 'Q6.rdrv', 'Q6.rdlo'): [{'op': 'phase_reset'}, {'op': 'pulse', 'freq': 150000000, 'phase': 0, 'amp': 1, 'env': {'env_func': 'cos_edge_square', 'paradict': {'ramp_fraction': 0.5, 'twidth': 5e-07}}, 'start_time': 5, 'dest': 'Q6.qdrv'}, {'op': 'done_stb'}], ('Q0.qdrv', 'Q0.rdrv', 'Q0.rdlo'): [{'op': 'phase_reset'}, {'op': 'pulse', 'freq': 150000000, 'phase': 0, 'amp': 1, 'env': {'env_func': 'cos_edge_square', 'paradict': {'ramp_fraction': 0.5, 'twidth': 5e-07}}, 'start_time': 5, 'dest': 'Q0.qdrv'}, {'op': 'done_stb'}], ('Q4.qdrv', 'Q4.rdrv', 'Q4.rdlo'): [{'op': 'phase_reset'}, {'op': 'pulse', 'freq': 150000000, 'phase': 0, 'amp': 1, 'env': {'env_func': 'cos_edge_square', 'paradict': {'ramp_fraction': 0.5, 'twidth': 5e-07}}, 'start_time': 5, 'dest': 'Q4.qdrv'}, {'op': 'done_stb'}], ('Q1.qdrv', 'Q1.rdrv', 'Q1.rdlo'): [{'op': 'phase_reset'}, {'op': 'pulse', 'freq': 150000000, 'phase': 0, 'amp': 1, 'env': {'env_func': 'cos_edge_square', 'paradict': {'ramp_fraction': 0.5, 'twidth': 5e-07}}, 'start_time': 5, 'dest': 'Q1.qdrv'}, {'op': 'done_stb'}], ('Q2.qdrv', 'Q2.rdrv', 'Q2.rdlo'): [{'op': 'phase_reset'}, {'op': 'pulse', 'freq': 150000000, 'phase': 0, 'amp': 1, 'env': {'env_func': 'cos_edge_square', 'paradict': {'ramp_fraction': 0.5, 'twidth': 5e-07}}, 'start_time': 5, 'dest': 'Q2.qdrv'}, {'op': 'done_stb'}]}, fpga_config=None)"
      ]
     },
     "execution_count": 14,
     "metadata": {},
     "output_type": "execute_result"
    }
   ],
   "source": [
    "compiled_prog = tc.run_compile_stage(circuit, fpga_config = fpga_config, qchip = None, compiler_flags={'resolve_gates': False})\n",
    "compiled_prog"
   ]
  },
  {
   "cell_type": "code",
   "execution_count": 15,
   "metadata": {},
   "outputs": [],
   "source": [
    "asm_prog = tc.run_assemble_stage(compiled_prog, channel_configs) "
   ]
  },
  {
   "cell_type": "code",
   "execution_count": 16,
   "metadata": {},
   "outputs": [
    {
     "data": {
      "text/plain": [
       "{'Q5.rdlo': array([[[2.14741811e+09+2.14741811e+09j],\n",
       "         [2.14741811e+09+2.14741811e+09j],\n",
       "         [2.14741811e+09+2.14741811e+09j],\n",
       "         ...,\n",
       "         [0.00000000e+00+0.00000000e+00j],\n",
       "         [0.00000000e+00+0.00000000e+00j],\n",
       "         [0.00000000e+00+0.00000000e+00j]]]),\n",
       " 'Q6.rdlo': array([[[2.14741811e+09+2.14741811e+09j],\n",
       "         [2.14741811e+09+2.14741811e+09j],\n",
       "         [2.14741811e+09+2.14741811e+09j],\n",
       "         ...,\n",
       "         [0.00000000e+00+0.00000000e+00j],\n",
       "         [0.00000000e+00+0.00000000e+00j],\n",
       "         [0.00000000e+00+0.00000000e+00j]]]),\n",
       " 'Q4.rdlo': array([[[2.14741811e+09+2.14741811e+09j],\n",
       "         [2.14741811e+09+2.14741811e+09j],\n",
       "         [2.14741811e+09+2.14741811e+09j],\n",
       "         ...,\n",
       "         [0.00000000e+00+0.00000000e+00j],\n",
       "         [0.00000000e+00+0.00000000e+00j],\n",
       "         [0.00000000e+00+0.00000000e+00j]]]),\n",
       " 'Q0.rdlo': array([[[2.14741811e+09+2.14741811e+09j],\n",
       "         [2.14741811e+09+2.14741811e+09j],\n",
       "         [2.14741811e+09+2.14741811e+09j],\n",
       "         ...,\n",
       "         [0.00000000e+00+0.00000000e+00j],\n",
       "         [0.00000000e+00+0.00000000e+00j],\n",
       "         [0.00000000e+00+0.00000000e+00j]]]),\n",
       " 'Q3.rdlo': array([[[2.14741811e+09+2.14741811e+09j],\n",
       "         [2.14741811e+09+2.14741811e+09j],\n",
       "         [2.14741811e+09+2.14741811e+09j],\n",
       "         ...,\n",
       "         [0.00000000e+00+0.00000000e+00j],\n",
       "         [0.00000000e+00+0.00000000e+00j],\n",
       "         [0.00000000e+00+0.00000000e+00j]]]),\n",
       " 'Q1.rdlo': array([[[2.14741811e+09+2.14741811e+09j],\n",
       "         [2.14741811e+09+2.14741811e+09j],\n",
       "         [2.14741811e+09+2.14741811e+09j],\n",
       "         ...,\n",
       "         [0.00000000e+00+0.00000000e+00j],\n",
       "         [0.00000000e+00+0.00000000e+00j],\n",
       "         [0.00000000e+00+0.00000000e+00j]]]),\n",
       " 'Q2.rdlo': array([[[2.14741811e+09+2.14741811e+09j],\n",
       "         [2.14741811e+09+2.14741811e+09j],\n",
       "         [2.14741811e+09+2.14741811e+09j],\n",
       "         ...,\n",
       "         [0.00000000e+00+0.00000000e+00j],\n",
       "         [0.00000000e+00+0.00000000e+00j],\n",
       "         [0.00000000e+00+0.00000000e+00j]]]),\n",
       " 'Q7.rdlo': array([[[2.14741811e+09+2.14741811e+09j],\n",
       "         [2.14741811e+09+2.14741811e+09j],\n",
       "         [2.14741811e+09+2.14741811e+09j],\n",
       "         ...,\n",
       "         [0.00000000e+00+0.00000000e+00j],\n",
       "         [0.00000000e+00+0.00000000e+00j],\n",
       "         [0.00000000e+00+0.00000000e+00j]]])}"
      ]
     },
     "execution_count": 16,
     "metadata": {},
     "output_type": "execute_result"
    }
   ],
   "source": [
    "runner.run_circuit_batch([asm_prog], n_total_shots=1000000)"
   ]
  },
  {
   "cell_type": "code",
   "execution_count": null,
   "metadata": {},
   "outputs": [],
   "source": []
  }
 ],
 "metadata": {
  "kernelspec": {
   "display_name": ".venv",
   "language": "python",
   "name": "python3"
  },
  "language_info": {
   "codemirror_mode": {
    "name": "ipython",
    "version": 3
   },
   "file_extension": ".py",
   "mimetype": "text/x-python",
   "name": "python",
   "nbconvert_exporter": "python",
   "pygments_lexer": "ipython3",
   "version": "3.9.6"
  }
 },
 "nbformat": 4,
 "nbformat_minor": 2
}
